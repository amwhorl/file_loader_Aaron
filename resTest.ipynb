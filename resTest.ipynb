{
 "cells": [
  {
   "cell_type": "code",
   "execution_count": null,
   "id": "2fcb5b0c",
   "metadata": {},
   "outputs": [],
   "source": [
    "from astropy.io import fits\n",
    "import matplotlib.pyplot as plt\n",
    "from desispec.io.spectra import read_spectra\n",
    "from desispec.coaddition import coadd_cameras\n",
    "import numpy as np\n",
    "from desitarget.targetmask import desi_mask\n",
    "from desispec.resolution import Resolution\n",
    "from scipy.optimize import curve_fit\n"
   ]
  },
  {
   "cell_type": "code",
   "execution_count": null,
   "id": "1b83a3ac",
   "metadata": {},
   "outputs": [],
   "source": [
    "spec = read_spectra(\"coadd-main-dark-0-test.fits\")\n",
    "spec0 = spec[1]\n",
    "print(spec[1])\n",
    "wave = coadd_cameras(spec0).wave['brz']\n",
    "res = coadd_cameras(spec0).resolution_data['brz'][0]\n",
    "R = Resolution(res)\n",
    "# print(R)"
   ]
  },
  {
   "cell_type": "code",
   "execution_count": null,
   "id": "e19f0e50",
   "metadata": {},
   "outputs": [],
   "source": [
    "sigArray = []\n",
    "rArray = []\n",
    "def gauss(x,sig,A,mu):\n",
    "    return A*np.exp(-((x-mu)**2) / (2*sig**2))\n",
    "\n",
    "for i in range(len(wave)):\n",
    "    kernel = res[:, i]  # shape: (ndiag,), centered at wave[i]\n",
    "    # Compute the pixel offsets relative to center\n",
    "    offsets = R.offsets\n",
    "    kernel_wave = wave[i] + (offsets * np.gradient(wave)[i])\n",
    "    if np.nan in kernel:\n",
    "        sigArray.append(np.nan)\n",
    "        rArray.append(np.nan)\n",
    "    elif np.inf in kernel:\n",
    "        sigArray.append(np.inf)\n",
    "        rArray.append(np.inf)\n",
    "    else:\n",
    "        # Get the resolution kernel (ISF) at pixel i\n",
    "        kernel = res[:, i]  # shape: (ndiag,), centered at wave[i]\n",
    "\n",
    "        # Compute the pixel offsets relative to center\n",
    "        offsets = R.offsets\n",
    "        kernel_wave = wave[i] + (offsets * np.gradient(wave)[i])\n",
    "        peak = max(kernel)\n",
    "\n",
    "        parameters = curve_fit(gauss, kernel_wave, kernel, p0=[0.5, 1, kernel_wave[5]])\n",
    "        sig_fit, A_fit, mu_fit = parameters[0]\n",
    "        sigArray.append(sig_fit)\n",
    "        print(sig_fit)\n",
    "        r = kernel_wave[5]/(2*sig_fit*np.sqrt(2*np.log(2)))\n",
    "        rArray.append(r)\n",
    "\n",
    "        # # Normalize (optional; usually already normalized)\n",
    "        # kernel /= np.sum(kernel)"
   ]
  },
  {
   "cell_type": "code",
   "execution_count": null,
   "id": "b13dbf06",
   "metadata": {},
   "outputs": [],
   "source": [
    "plt.figure(1)\n",
    "plt.plot(wave,rArray,'b.')\n",
    "plt.xlabel('$\\lambda\\ [{\\AA}]$')\n",
    "plt.ylabel('Resolution')\n",
    "\n",
    "\n",
    "plt.figure(2)\n",
    "plt.plot(wave,sigArray,'k.')\n",
    "plt.xlabel('$\\lambda\\ [{\\AA}]$')\n",
    "plt.ylabel('$\\Delta\\sigma_{s}\\ [Pixels]$');\n",
    "\n"
   ]
  }
 ],
 "metadata": {
  "kernelspec": {
   "display_name": "desi_env",
   "language": "python",
   "name": "python3"
  },
  "language_info": {
   "codemirror_mode": {
    "name": "ipython",
    "version": 3
   },
   "file_extension": ".py",
   "mimetype": "text/x-python",
   "name": "python",
   "nbconvert_exporter": "python",
   "pygments_lexer": "ipython3",
   "version": "3.10.16"
  }
 },
 "nbformat": 4,
 "nbformat_minor": 5
}
