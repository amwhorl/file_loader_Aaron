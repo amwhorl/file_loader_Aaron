{
 "cells": [
  {
   "cell_type": "code",
   "execution_count": 5,
   "id": "491492b9",
   "metadata": {},
   "outputs": [
    {
     "ename": "OSError",
     "evalue": "FITSIO status = 104: could not open the named file\nfailed to find or open the following file: (ffopen)\nCatalogs/PCA_Eigenvectors.fits\n",
     "output_type": "error",
     "traceback": [
      "\u001b[0;31m---------------------------------------------------------------------------\u001b[0m",
      "\u001b[0;31mOSError\u001b[0m                                   Traceback (most recent call last)",
      "Cell \u001b[0;32mIn[5], line 9\u001b[0m\n\u001b[1;32m      7\u001b[0m get_ipython()\u001b[38;5;241m.\u001b[39msystem(\u001b[38;5;124m'\u001b[39m\u001b[38;5;124mexport PYTHONPATH=\u001b[39m\u001b[38;5;124m\"\u001b[39m\u001b[38;5;124m/home/amwho/baltools/py:$PYTHONPATH\u001b[39m\u001b[38;5;124m\"\u001b[39m\u001b[38;5;124m'\u001b[39m)\n\u001b[1;32m      8\u001b[0m \u001b[38;5;28;01mimport\u001b[39;00m\u001b[38;5;250m \u001b[39m\u001b[38;5;21;01mbaltools\u001b[39;00m\n\u001b[0;32m----> 9\u001b[0m \u001b[38;5;28;01mfrom\u001b[39;00m\u001b[38;5;250m \u001b[39m\u001b[38;5;21;01mbaltools\u001b[39;00m\u001b[38;5;250m \u001b[39m\u001b[38;5;28;01mimport\u001b[39;00m desibal\n",
      "File \u001b[0;32m~/baltools/py/baltools/desibal.py:24\u001b[0m\n\u001b[1;32m     21\u001b[0m \u001b[38;5;28;01mfrom\u001b[39;00m\u001b[38;5;250m \u001b[39m\u001b[38;5;21;01mdesispec\u001b[39;00m\u001b[38;5;21;01m.\u001b[39;00m\u001b[38;5;21;01mcoaddition\u001b[39;00m\u001b[38;5;250m \u001b[39m\u001b[38;5;28;01mimport\u001b[39;00m coadd_cameras,resample_spectra_lin_or_log\n\u001b[1;32m     22\u001b[0m \u001b[38;5;28;01mfrom\u001b[39;00m\u001b[38;5;250m \u001b[39m\u001b[38;5;21;01mcollections\u001b[39;00m\u001b[38;5;250m \u001b[39m\u001b[38;5;28;01mimport\u001b[39;00m defaultdict\n\u001b[0;32m---> 24\u001b[0m \u001b[38;5;28;01mfrom\u001b[39;00m\u001b[38;5;250m \u001b[39m\u001b[38;5;21;01mbaltools\u001b[39;00m\u001b[38;5;250m \u001b[39m\u001b[38;5;28;01mimport\u001b[39;00m fitbal\n\u001b[1;32m     25\u001b[0m \u001b[38;5;28;01mfrom\u001b[39;00m\u001b[38;5;250m \u001b[39m\u001b[38;5;21;01mbaltools\u001b[39;00m\u001b[38;5;250m \u001b[39m\u001b[38;5;28;01mimport\u001b[39;00m balconfig \u001b[38;5;28;01mas\u001b[39;00m bc\n\u001b[1;32m     26\u001b[0m \u001b[38;5;28;01mfrom\u001b[39;00m\u001b[38;5;250m \u001b[39m\u001b[38;5;21;01mbaltools\u001b[39;00m\u001b[38;5;250m \u001b[39m\u001b[38;5;28;01mimport\u001b[39;00m baltable\n",
      "File \u001b[0;32m~/baltools/py/baltools/fitbal.py:22\u001b[0m\n\u001b[1;32m     19\u001b[0m \u001b[38;5;28;01mimport\u001b[39;00m\u001b[38;5;250m \u001b[39m\u001b[38;5;21;01mscipy\u001b[39;00m\u001b[38;5;21;01m.\u001b[39;00m\u001b[38;5;21;01moptimize\u001b[39;00m\u001b[38;5;250m \u001b[39m\u001b[38;5;28;01mas\u001b[39;00m\u001b[38;5;250m \u001b[39m\u001b[38;5;21;01mopt\u001b[39;00m\n\u001b[1;32m     20\u001b[0m \u001b[38;5;28;01mimport\u001b[39;00m\u001b[38;5;250m \u001b[39m\u001b[38;5;21;01mwarnings\u001b[39;00m\n\u001b[0;32m---> 22\u001b[0m \u001b[38;5;28;01mfrom\u001b[39;00m\u001b[38;5;250m \u001b[39m\u001b[38;5;21;01mbaltools\u001b[39;00m\u001b[38;5;250m \u001b[39m\u001b[38;5;28;01mimport\u001b[39;00m balconfig \u001b[38;5;28;01mas\u001b[39;00m bc\n\u001b[1;32m     24\u001b[0m \u001b[38;5;28;01mimport\u001b[39;00m\u001b[38;5;250m \u001b[39m\u001b[38;5;21;01mmatplotlib\u001b[39;00m\u001b[38;5;21;01m.\u001b[39;00m\u001b[38;5;21;01mpyplot\u001b[39;00m\u001b[38;5;250m \u001b[39m\u001b[38;5;28;01mas\u001b[39;00m\u001b[38;5;250m \u001b[39m\u001b[38;5;21;01mplt\u001b[39;00m\n\u001b[1;32m     26\u001b[0m debug \u001b[38;5;241m=\u001b[39m \u001b[38;5;28;01mFalse\u001b[39;00m\n",
      "File \u001b[0;32m~/baltools/py/baltools/balconfig.py:75\u001b[0m\n\u001b[1;32m     70\u001b[0m desispecdir3 \u001b[38;5;241m=\u001b[39m \u001b[38;5;124m'\u001b[39m\u001b[38;5;124m/project/projectdirs/desi/mocks/lya_forest/develop/london/v5.0.0/quick-2.6/spectra-16/\u001b[39m\u001b[38;5;124m'\u001b[39m\n\u001b[1;32m     72\u001b[0m \u001b[38;5;66;03m# Check the wavelength limits for the PCA fit are consistent \u001b[39;00m\n\u001b[1;32m     73\u001b[0m \u001b[38;5;66;03m# with the templates\u001b[39;00m\n\u001b[0;32m---> 75\u001b[0m pcaeigen \u001b[38;5;241m=\u001b[39m \u001b[43mfitsio\u001b[49m\u001b[38;5;241;43m.\u001b[39;49m\u001b[43mread\u001b[49m\u001b[43m(\u001b[49m\u001b[43mpcaeigenfile\u001b[49m\u001b[43m)\u001b[49m\n\u001b[1;32m     77\u001b[0m \u001b[38;5;28;01mtry\u001b[39;00m: \n\u001b[1;32m     78\u001b[0m     \u001b[38;5;28;01massert\u001b[39;00m (BAL_LAMBDA_MIN \u001b[38;5;241m>\u001b[39m\u001b[38;5;241m=\u001b[39m pcaeigen[\u001b[38;5;124m'\u001b[39m\u001b[38;5;124mWAVE\u001b[39m\u001b[38;5;124m'\u001b[39m][\u001b[38;5;241m0\u001b[39m])\n",
      "File \u001b[0;32m~/miniconda3/envs/desi_env/lib/python3.10/site-packages/fitsio/fitslib.py:141\u001b[0m, in \u001b[0;36mread\u001b[0;34m(filename, ext, extver, columns, rows, header, case_sensitive, upper, lower, vstorage, verbose, trim_strings, **keys)\u001b[0m\n\u001b[1;32m    138\u001b[0m \u001b[38;5;28;01mif\u001b[39;00m rows \u001b[38;5;129;01mis\u001b[39;00m \u001b[38;5;129;01mnot\u001b[39;00m \u001b[38;5;28;01mNone\u001b[39;00m:\n\u001b[1;32m    139\u001b[0m     read_kwargs[\u001b[38;5;124m'\u001b[39m\u001b[38;5;124mrows\u001b[39m\u001b[38;5;124m'\u001b[39m] \u001b[38;5;241m=\u001b[39m rows\n\u001b[0;32m--> 141\u001b[0m \u001b[38;5;28;01mwith\u001b[39;00m \u001b[43mFITS\u001b[49m\u001b[43m(\u001b[49m\u001b[43mfilename\u001b[49m\u001b[43m,\u001b[49m\u001b[43m \u001b[49m\u001b[38;5;241;43m*\u001b[39;49m\u001b[38;5;241;43m*\u001b[39;49m\u001b[43mkwargs\u001b[49m\u001b[43m)\u001b[49m \u001b[38;5;28;01mas\u001b[39;00m fits:\n\u001b[1;32m    143\u001b[0m     \u001b[38;5;28;01mif\u001b[39;00m ext \u001b[38;5;129;01mis\u001b[39;00m \u001b[38;5;28;01mNone\u001b[39;00m:\n\u001b[1;32m    144\u001b[0m         \u001b[38;5;28;01mfor\u001b[39;00m i \u001b[38;5;129;01min\u001b[39;00m xrange(\u001b[38;5;28mlen\u001b[39m(fits)):\n",
      "File \u001b[0;32m~/miniconda3/envs/desi_env/lib/python3.10/site-packages/fitsio/fitslib.py:534\u001b[0m, in \u001b[0;36mFITS.__init__\u001b[0;34m(self, filename, mode, lower, upper, trim_strings, vstorage, case_sensitive, iter_row_buffer, write_bitcols, ignore_empty, verbose, clobber, **keys)\u001b[0m\n\u001b[1;32m    531\u001b[0m             create \u001b[38;5;241m=\u001b[39m \u001b[38;5;241m1\u001b[39m\n\u001b[1;32m    533\u001b[0m \u001b[38;5;28mself\u001b[39m\u001b[38;5;241m.\u001b[39m_did_create \u001b[38;5;241m=\u001b[39m (create \u001b[38;5;241m==\u001b[39m \u001b[38;5;241m1\u001b[39m)\n\u001b[0;32m--> 534\u001b[0m \u001b[38;5;28mself\u001b[39m\u001b[38;5;241m.\u001b[39m_FITS \u001b[38;5;241m=\u001b[39m \u001b[43m_fitsio_wrap\u001b[49m\u001b[38;5;241;43m.\u001b[39;49m\u001b[43mFITS\u001b[49m\u001b[43m(\u001b[49m\u001b[43mfilename\u001b[49m\u001b[43m,\u001b[49m\u001b[43m \u001b[49m\u001b[38;5;28;43mself\u001b[39;49m\u001b[38;5;241;43m.\u001b[39;49m\u001b[43mintmode\u001b[49m\u001b[43m,\u001b[49m\u001b[43m \u001b[49m\u001b[43mcreate\u001b[49m\u001b[43m)\u001b[49m\n",
      "\u001b[0;31mOSError\u001b[0m: FITSIO status = 104: could not open the named file\nfailed to find or open the following file: (ffopen)\nCatalogs/PCA_Eigenvectors.fits\n"
     ]
    }
   ],
   "source": [
    "import numpy as np\n",
    "import matplotlib.pyplot as plt\n",
    "from astropy.io import fits\n",
    "import desispec.io\n",
    "from desispec.io.spectra import read_spectra\n",
    "from desispec.coaddition import coadd_cameras\n",
    "!export PYTHONPATH=\"/home/amwho/baltools/py:$PYTHONPATH\"\n",
    "import baltools\n",
    "from baltools import desibal\n",
    "\n",
    "\n"
   ]
  },
  {
   "cell_type": "code",
   "execution_count": null,
   "id": "deecb603",
   "metadata": {},
   "outputs": [
    {
     "name": "stdout",
     "output_type": "stream",
     "text": [
      "INFO:spectra.py:451:read_spectra: iotime 6.910 sec to read spectra from:  coadd-main-dark-0-test.fits at 2025-07-17T14:41:27.055707\n",
      "     TARGETID     COADD_FIBERSTATUS ... STD_FIBER_DEC MEAN_PSF_TO_FIBER_SPECFLUX\n",
      "----------------- ----------------- ... ------------- --------------------------\n",
      "39627791519454588                 0 ...   0.050135396                      0.789\n"
     ]
    }
   ],
   "source": [
    "spec = read_spectra(\"coadd-main-dark-0-test.fits\")[0]\n",
    "wave = coadd_cameras(spec).wave['brz']\n",
    "flux = coadd_cameras(spec).flux['brz'][0]\n",
    "ivar = coadd_cameras(spec).ivar['brz'][0]\n"
   ]
  },
  {
   "cell_type": "code",
   "execution_count": null,
   "id": "b59bec8a",
   "metadata": {},
   "outputs": [],
   "source": [
    "\n",
    "functions = inspect.getmembers(fitbal, inspect.isfunction)\n",
    "for name, _ in functions:\n",
    "    print(name)\n",
    "\n"
   ]
  },
  {
   "cell_type": "code",
   "execution_count": 2,
   "id": "da5df766",
   "metadata": {},
   "outputs": [
    {
     "name": "stdout",
     "output_type": "stream",
     "text": [
      "(idata, model, verbose=False)\n"
     ]
    }
   ],
   "source": [
    "print(inspect.signature(fitbal.calculatebalinfo))\n"
   ]
  },
  {
   "cell_type": "code",
   "execution_count": null,
   "id": "ce2d265e",
   "metadata": {},
   "outputs": [],
   "source": []
  }
 ],
 "metadata": {
  "kernelspec": {
   "display_name": "desi_env",
   "language": "python",
   "name": "python3"
  },
  "language_info": {
   "codemirror_mode": {
    "name": "ipython",
    "version": 3
   },
   "file_extension": ".py",
   "mimetype": "text/x-python",
   "name": "python",
   "nbconvert_exporter": "python",
   "pygments_lexer": "ipython3",
   "version": "3.10.16"
  }
 },
 "nbformat": 4,
 "nbformat_minor": 5
}
