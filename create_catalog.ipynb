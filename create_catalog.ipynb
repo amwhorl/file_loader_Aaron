{
 "cells": [
  {
   "cell_type": "code",
   "execution_count": 1,
   "id": "82f31d3d",
   "metadata": {},
   "outputs": [],
   "source": [
    "import requests\n",
    "from bs4 import BeautifulSoup\n",
    "from astropy.io import fits\n",
    "import matplotlib.pyplot as plt\n",
    "from desispec.io.spectra import read_spectra\n",
    "import numpy as np\n",
    "from desitarget.targetmask import desi_mask\n",
    "from astropy.table import Table"
   ]
  },
  {
   "cell_type": "code",
   "execution_count": 2,
   "id": "dd541324",
   "metadata": {},
   "outputs": [],
   "source": [
    "r_i = requests.get(\"https://data.desi.lbl.gov/public/dr1/spectro/redux/iron/healpix/main/dark/\") \n",
    "soup_i = BeautifulSoup(r_i.content, \"html.parser\")\n",
    "all_links_i = soup_i.find_all(\"a\")\n",
    "linkList_i = [link['href'] for link in all_links_i[1:]] # creates a list of all the first indicies of the coaad files\n",
    "\n",
    "all_lists = []\n",
    "for i in range(len(linkList_i)):\n",
    "    r_j = requests.get(\"https://data.desi.lbl.gov/public/dr1/spectro/redux/iron/healpix/main/dark/\" + str(linkList_i[i]))\n",
    "    soup_j = BeautifulSoup(r_j.content, \"html.parser\")\n",
    "    all_links_j = soup_j.find_all(\"a\")\n",
    "    linkList_j = [link['href'] for link in all_links_j] \n",
    "    all_lists.append(linkList_j[1:]) # creates a list of all the second indicies of the coaad files for each of the first indicies"
   ]
  },
  {
   "cell_type": "code",
   "execution_count": null,
   "id": "359513d7",
   "metadata": {},
   "outputs": [
    {
     "name": "stdout",
     "output_type": "stream",
     "text": [
      "200\n",
      "INFO:spectra.py:451:read_spectra: iotime 6.368 sec to read spectra from:  coadd-main-dark-0.fits at 2025-06-25T11:39:30.055631\n",
      "200\n",
      "INFO:spectra.py:451:read_spectra: iotime 6.468 sec to read spectra from:  coadd-main-dark-1.fits at 2025-06-25T11:42:18.518696\n"
     ]
    }
   ],
   "source": [
    "hdul = fits.open(\"qso_cat_dr1_main_dark_healpix_zlya-v0.fits\") # lya quasar catalog\n",
    "data = hdul[1].data\n",
    "flux_b = []; flux_r = []; flux_z = [] # Initialize lists\n",
    "wave_b = []; wave_r = []; wave_z = []\n",
    "ivar_b = []; ivar_r = []; ivar_z = []\n",
    "zArray = []\n",
    "tidArray = []\n",
    "for i in range(1): #range(len(linkList_i))\n",
    "    for j in range(2): #range(len(all_lists[i]))\n",
    "        r = requests.get(\"https://data.desi.lbl.gov/public/dr1/spectro/redux/iron/healpix/main/dark/\" +  str(linkList_i[i]) # uses url generated from linkList and all_lists\n",
    "                     + str(all_lists[i][j]) + \"coadd-main-dark-\"+  str(all_lists[i][j]).replace(\"/\",\"\") + \".fits\")\n",
    "        print(r.status_code)\n",
    "        with open(\"coadd-main-dark-\" + str(all_lists[i][j]).replace(\"/\",\"\") + \".fits\", \"wb\") as fp: #dowloads the file with the name generated from all_lists\n",
    "            fp.write(r.content)\n",
    "            \n",
    "        spec = read_spectra(\"coadd-main-dark-\" + str(all_lists[i][j]).replace(\"/\",\"\") + \".fits\" ) # gets spectra data from the coaad file\n",
    "        fibermap = spec.fibermap\n",
    "        coadd_dict = {tid: ii for ii, tid in enumerate(fibermap[\"TARGETID\"])} # creates a dictionary of indicies with the target id as the key\n",
    "        validQSOidx = []\n",
    "        for ii, tid in enumerate(data[\"TARGETID\"]):\n",
    "            if (data[\"Z\"][ii] > 2) and (data[\"ZWARN\"][ii] == 0) and (data[\"BI_CIV\"][ii] == 0): #checks that Z > Z_min, ZWARN = 0, and BI_CIV > BI_CIV_min\n",
    "                if tid in coadd_dict: # checks that the target id from the lya QSO catelog is in the coadd file\n",
    "                    tidArray.append(tid) #generates a list of target id's of valis QSOs\n",
    "                    zArray.append(data[\"Z\"][ii]) # generates a list of redshift of all the valid QSOs\n",
    "                    wave_b = spec.wave['b'] # extracts wavelegnth for all three arms\n",
    "                    wave_r = spec.wave['r']\n",
    "                    wave_z = spec.wave['z']\n",
    "                    wave = np.concatenate((wave_b,wave_r,wave_z)) # concatenates the three arms\n",
    "                    flux_b = spec.flux['b'][coadd_dict[tid]]\n",
    "                    flux_r = spec.flux['r'][coadd_dict[tid]]\n",
    "                    flux_z = spec.flux['z'][coadd_dict[tid]]\n",
    "                    flux = np.concatenate((flux_b,flux_r,flux_z))\n",
    "                    ivar_b = spec.flux['b'][coadd_dict[tid]]\n",
    "                    ivar_r = spec.flux['r'][coadd_dict[tid]]\n",
    "                    ivar_z = spec.flux['z'][coadd_dict[tid]]\n",
    "                    ivar = np.concatenate((ivar_b,ivar_r,ivar_z))\n",
    "                    t = Table()\n",
    "                    t['WAVE'] = wave # formats the datat into a table\n",
    "                    t['FLUX'] = flux\n",
    "                    t['IVAR'] = ivar\n",
    "                    t.write(str(tid) + '.fits') # writes the data to a fits file for analysis\n",
    "\n",
    "                    \n",
    "        filename = \"coadd-main-dark-\" + str(all_lists[i][j]).replace(\"/\", \"\") + \".fits\"\n",
    "        !rm -rf \"{filename}\" # removes the downloaded coadd file\n"
   ]
  },
  {
   "cell_type": "code",
   "execution_count": 10,
   "id": "24e770f5",
   "metadata": {},
   "outputs": [
    {
     "name": "stdout",
     "output_type": "stream",
     "text": [
      "[3600.  3600.8 3601.6 ... 5798.4 5799.2 5800. ]\n",
      "[5760.  5760.8 5761.6 ... 7618.4 7619.2 7620. ]\n",
      "[3600.  3600.8 3601.6 ... 9822.4 9823.2 9824. ]\n"
     ]
    }
   ],
   "source": [
    "print(wave_b)\n",
    "print(wave_r)\n",
    "print(np.concatenate((wave_b,wave_r,wave_z)))"
   ]
  },
  {
   "cell_type": "code",
   "execution_count": null,
   "id": "0da6f04b",
   "metadata": {},
   "outputs": [],
   "source": []
  }
 ],
 "metadata": {
  "kernelspec": {
   "display_name": "desi_env",
   "language": "python",
   "name": "python3"
  },
  "language_info": {
   "codemirror_mode": {
    "name": "ipython",
    "version": 3
   },
   "file_extension": ".py",
   "mimetype": "text/x-python",
   "name": "python",
   "nbconvert_exporter": "python",
   "pygments_lexer": "ipython3",
   "version": "3.10.16"
  }
 },
 "nbformat": 4,
 "nbformat_minor": 5
}
