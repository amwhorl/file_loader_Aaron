{
 "cells": [
  {
   "cell_type": "code",
   "execution_count": null,
   "id": "82f31d3d",
   "metadata": {},
   "outputs": [],
   "source": [
    "import requests\n",
    "from bs4 import BeautifulSoup\n",
    "from astropy.io import fits\n",
    "import matplotlib.pyplot as plt\n",
    "from desispec.io.spectra import read_spectra\n",
    "from desispec.coaddition import coadd_cameras\n",
    "import numpy as np\n",
    "from desitarget.targetmask import desi_mask\n",
    "from astropy.table import Table"
   ]
  },
  {
   "cell_type": "code",
   "execution_count": null,
   "id": "dd541324",
   "metadata": {},
   "outputs": [],
   "source": [
    "### Generates Lists of all the links needed to download the data\n",
    "r_i = requests.get(\"https://data.desi.lbl.gov/public/dr1/spectro/redux/iron/healpix/main/dark/\") \n",
    "soup_i = BeautifulSoup(r_i.content, \"html.parser\")\n",
    "all_links_i = soup_i.find_all(\"a\")\n",
    "linkList_i = [link['href'] for link in all_links_i[1:]] # creates a list of all the first indicies of the coaad files\n",
    "\n",
    "all_lists = []\n",
    "for i in range(len(linkList_i)):\n",
    "    r_j = requests.get(\"https://data.desi.lbl.gov/public/dr1/spectro/redux/iron/healpix/main/dark/\" + str(linkList_i[i]))\n",
    "    soup_j = BeautifulSoup(r_j.content, \"html.parser\")\n",
    "    all_links_j = soup_j.find_all(\"a\")\n",
    "    linkList_j = [link['href'] for link in all_links_j] \n",
    "    all_lists.append(linkList_j[1:]) # creates a list of all the second indicies of the coaad files for each of the first indicies\n",
    "    "
   ]
  },
  {
   "cell_type": "code",
   "execution_count": null,
   "id": "7d3c2996",
   "metadata": {},
   "outputs": [],
   "source": [
    "### Initializing\n",
    "tile = set()\n",
    "zArray = []\n",
    "RaArray = []\n",
    "DecArray = []\n",
    "tidArray = []\n",
    "hdul = fits.open(\"qso_cat_dr1_main_dark_healpix_zlya-v0.fits\") # lya quasar catalog\n",
    "data = hdul[1].data"
   ]
  },
  {
   "cell_type": "code",
   "execution_count": null,
   "id": "359513d7",
   "metadata": {},
   "outputs": [],
   "source": [
    "### Dowload and extract data\n",
    "for i in range(1): #range(len(linkList_i)):\n",
    "    for j in range(2): #range(len(all_lists[i])):\n",
    "        if int(all_lists[i][j].replace(\"/\",\"\")) in tile: # checks if tile has already been downloaded and all spectra extracted\n",
    "            print('coadd-main-dark-'+  str(all_lists[i][j]).replace(\"/\",\"\") + '.fits' + ' has already been downloaded')\n",
    "            continue\n",
    "        else:\n",
    "            downFile = ('https://data.desi.lbl.gov/public/dr1/spectro/redux/iron/healpix/main/dark/' +  str(linkList_i[i]) # uses url generated from linkList and all_lists\n",
    "                        + str(all_lists[i][j]) + 'coadd-main-dark-'+  str(all_lists[i][j]).replace(\"/\",\"\") + '.fits')\n",
    "            !wget \"{downFile}\"\n",
    "            print(all_lists[i][j].replace(\"/\",\"\"))\n",
    "\n",
    "            spec = read_spectra(\"coadd-main-dark-\" + all_lists[i][j].replace(\"/\",\"\") + \".fits\" ) # gets spectra data from the coaad file\n",
    "            fibermap = spec.fibermap\n",
    "            coadd_dict = {tid: ii for ii, tid in enumerate(fibermap[\"TARGETID\"])} # creates a dictionary of indicies with the target id as the key\n",
    "\n",
    "            for ii, tid in enumerate(data[\"TARGETID\"]):\n",
    "                if (data[\"Z\"][ii] < 5.4) and (data[\"ZWARN\"][ii] == 0) and (data[\"BI_CIV\"][ii] == 0): #checks that Z < Z_max, ZWARN = 0, and BI_CIV < BI_CIV_max\n",
    "                    if tid in coadd_dict: # checks that the target id from the lya QSO catelog is in the coadd file\n",
    "                        tidArray.append(tid) #generates a list of target id's of valis QSOs\n",
    "                        zArray.append(data[\"Z\"][ii]) # generates a list of redshift of all the valid QSOs\n",
    "                        RaArray.append(data[\"TARGET_RA\"][ii]) # generates a list of RA of all the valid QSOs\n",
    "                        DecArray.append(data[\"TARGET_DEC\"][ii]) # generates a list of DEC of all the valid QSOs\n",
    "                        spec_one = spec[coadd_dict[tid]]\n",
    "                        wave = coadd_cameras(spec_one).wave['brz'] # extracts and combines the three arms for wave, flux, and ivar\n",
    "                        flux = coadd_cameras(spec_one).flux['brz'][0]\n",
    "                        ivar = coadd_cameras(spec_one).ivar['brz'][0]\n",
    "                        t = Table()\n",
    "                        t['WAVE'] = wave # formats the data into a table\n",
    "                        t['FLUX'] = flux\n",
    "                        t['IVAR'] = ivar\n",
    "                        t.write(str(tid) + '.fits',\"overwrite=True\") # writes the data to a fits file for analysis\n",
    "\n",
    "            tile.add(int(all_lists[i][j].replace(\"/\",\"\"))) # used to make sure that if code stops while downloading, the last downloaded tile is saved so we dont have to restart\n",
    "            filename = \"coadd-main-dark-\" + all_lists[i][j].replace(\"/\",\"\") + \".fits\"\n",
    "            !rm -rf \"{filename}\" # removes the downloaded coadd file\n",
    "        \n",
    "t2 = Table()\n",
    "t2['TARGETID'] = tidArray \n",
    "t2['Z'] = zArray\n",
    "t2['TARGET_RA'] = RaArray\n",
    "t2['TARGET_DEC'] = DecArray\n",
    "t2.write('QSO_catalog.fits',\"overwrite=True\") # writes a file with tid and redshifts of all the valid QSOs\n"
   ]
  }
 ],
 "metadata": {
  "kernelspec": {
   "display_name": "desi_env",
   "language": "python",
   "name": "python3"
  },
  "language_info": {
   "codemirror_mode": {
    "name": "ipython",
    "version": 3
   },
   "file_extension": ".py",
   "mimetype": "text/x-python",
   "name": "python",
   "nbconvert_exporter": "python",
   "pygments_lexer": "ipython3",
   "version": "3.10.16"
  }
 },
 "nbformat": 4,
 "nbformat_minor": 5
}
