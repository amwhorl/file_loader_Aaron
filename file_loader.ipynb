{
 "cells": [
  {
   "cell_type": "code",
   "execution_count": 1,
   "id": "ec9848c2",
   "metadata": {},
   "outputs": [],
   "source": [
    "import requests\n",
    "from bs4 import BeautifulSoup"
   ]
  },
  {
   "cell_type": "code",
   "execution_count": null,
   "id": "1bb88dc3",
   "metadata": {},
   "outputs": [],
   "source": [
    "\n",
    "r_i = requests.get(\"https://data.desi.lbl.gov/public/dr1/spectro/redux/iron/healpix/main/dark/\")\n",
    "soup_i = BeautifulSoup(r_i.content, \"html.parser\")\n",
    "all_links_i = soup_i.find_all(\"a\")\n",
    "linkList_i = [link['href'] for link in all_links_i[1:]]\n",
    "\n",
    "all_lists = []\n",
    "for i in range(len(linkList_i)):\n",
    "    r_j = requests.get(\"https://data.desi.lbl.gov/public/dr1/spectro/redux/iron/healpix/main/dark/\" + str(linkList_i[i]))\n",
    "    soup_j = BeautifulSoup(r_j.content, \"html.parser\")\n",
    "    all_links_j = soup_j.find_all(\"a\")\n",
    "    linkList_j = [link['href'] for link in all_links_j]\n",
    "    all_lists.append(linkList_j[1:])"
   ]
  },
  {
   "cell_type": "code",
   "execution_count": null,
   "id": "cdfc0383",
   "metadata": {},
   "outputs": [],
   "source": [
    "for i in range(len(linkList_i)):\n",
    "    for j in range(len(all_lists[i])):\n",
    "        r = requests.get(\"https://data.desi.lbl.gov/public/dr1/spectro/redux/iron/healpix/main/dark/\" +  str(linkList_i[i])\n",
    "                     + str(all_lists[i][j]) + \"/coadd-main-dark-\"+  str(all_lists[i][j]) + \".fits\")\n",
    "        print(r.status_code)\n",
    "\n",
    "        with open(\"coadd-main-dark-\" + + str(all_lists[i][j]) + \".fits\", \"wb\") as fp:\n",
    "            fp.write(r.content)\n",
    "print(\"done\")\n",
    "\n"
   ]
  }
 ],
 "metadata": {
  "kernelspec": {
   "display_name": "desi_env",
   "language": "python",
   "name": "python3"
  },
  "language_info": {
   "codemirror_mode": {
    "name": "ipython",
    "version": 3
   },
   "file_extension": ".py",
   "mimetype": "text/x-python",
   "name": "python",
   "nbconvert_exporter": "python",
   "pygments_lexer": "ipython3",
   "version": "3.10.16"
  }
 },
 "nbformat": 4,
 "nbformat_minor": 5
}
